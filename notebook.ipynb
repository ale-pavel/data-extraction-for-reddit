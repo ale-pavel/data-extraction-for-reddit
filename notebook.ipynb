{
 "cells": [
  {
   "cell_type": "markdown",
   "id": "settled-electronics",
   "metadata": {},
   "source": [
    "# Data extraction for Reddit\n",
    "\n",
    "Build a strategy to download and store all reddit posts and comments (including upvotes and downvotes) for a given subreddit (eg reddit.com/r/sanfrancisco).\n",
    "\n",
    "Write down an executable script in any language to run your strategy.\n",
    "\n",
    "Storage of your choice among Redis, MongoDB, or Mysql. Up to you choose which one you think fits best and/or you are more familiar with."
   ]
  },
  {
   "cell_type": "markdown",
   "id": "consolidated-colorado",
   "metadata": {},
   "source": [
    "Tutorial from: https://towardsdatascience.com/how-to-use-the-reddit-api-in-python-5e05ddfd1e5c"
   ]
  },
  {
   "cell_type": "code",
   "execution_count": null,
   "id": "liked-warrior",
   "metadata": {},
   "outputs": [],
   "source": [
    "with open('api_key.txt', 'r') as key_file:\n",
    "    CLIENT_ID, SECRET_KEY = key_file.read().strip('\\n').split('\\n')"
   ]
  },
  {
   "cell_type": "code",
   "execution_count": null,
   "id": "endless-roberts",
   "metadata": {},
   "outputs": [],
   "source": [
    "import requests"
   ]
  },
  {
   "cell_type": "code",
   "execution_count": null,
   "id": "warming-frost",
   "metadata": {},
   "outputs": [],
   "source": [
    "auth = requests.auth.HTTPBasicAuth(CLIENT_ID, SECRET_KEY)"
   ]
  },
  {
   "cell_type": "code",
   "execution_count": null,
   "id": "absolute-england",
   "metadata": {},
   "outputs": [],
   "source": [
    "with open('secret.txt', 'r') as pw_file:\n",
    "    user, pw = pw_file.read().strip('\\n').split('\\n')"
   ]
  },
  {
   "cell_type": "code",
   "execution_count": null,
   "id": "aquatic-greeting",
   "metadata": {},
   "outputs": [],
   "source": [
    "user_data = {\n",
    "    'grant_type': 'password',\n",
    "    'username': user,\n",
    "    'password': pw\n",
    "}"
   ]
  },
  {
   "cell_type": "code",
   "execution_count": null,
   "id": "confidential-cleaner",
   "metadata": {},
   "outputs": [],
   "source": [
    "headers = {'User-Agent': 'HwAPI/0.0.1'}"
   ]
  },
  {
   "cell_type": "markdown",
   "id": "bigger-leave",
   "metadata": {},
   "source": [
    " ### Important: This access Token will expire after 2 hours (or 1?), a new one has to be requested (permanent?) https://github.com/reddit-archive/reddit/wiki/OAuth2"
   ]
  },
  {
   "cell_type": "code",
   "execution_count": null,
   "id": "fiscal-kernel",
   "metadata": {},
   "outputs": [],
   "source": [
    "res = requests.post('https://www.reddit.com/api/v1/access_token', \n",
    "                     auth=auth, data=user_data, headers=headers)"
   ]
  },
  {
   "cell_type": "code",
   "execution_count": null,
   "id": "better-friday",
   "metadata": {},
   "outputs": [],
   "source": [
    "# res.json()"
   ]
  },
  {
   "cell_type": "code",
   "execution_count": null,
   "id": "educated-baseball",
   "metadata": {},
   "outputs": [],
   "source": [
    "TOKEN = res.json()['access_token']"
   ]
  },
  {
   "cell_type": "code",
   "execution_count": null,
   "id": "spiritual-external",
   "metadata": {},
   "outputs": [],
   "source": [
    "headers['Authorization'] = f'bearer {TOKEN}'"
   ]
  },
  {
   "cell_type": "markdown",
   "id": "studied-effectiveness",
   "metadata": {},
   "source": [
    "### Important: The API has a limit of requests per minute, monitor the usage. https://github.com/reddit-archive/reddit/wiki/API"
   ]
  },
  {
   "cell_type": "code",
   "execution_count": null,
   "id": "excess-lyric",
   "metadata": {},
   "outputs": [],
   "source": [
    "res = requests.get('https://oauth.reddit.com/api/v1/me', headers=headers)"
   ]
  },
  {
   "cell_type": "code",
   "execution_count": null,
   "id": "pretty-hayes",
   "metadata": {
    "scrolled": true
   },
   "outputs": [],
   "source": [
    "# res.json()"
   ]
  },
  {
   "cell_type": "code",
   "execution_count": null,
   "id": "peaceful-symphony",
   "metadata": {
    "scrolled": true
   },
   "outputs": [],
   "source": [
    "sf_hot = requests.get('https://oauth.reddit.com/r/sanfrancisco/hot', headers=headers)"
   ]
  },
  {
   "cell_type": "code",
   "execution_count": null,
   "id": "deadly-directive",
   "metadata": {
    "scrolled": true
   },
   "outputs": [],
   "source": [
    "sf_hot.json()['data']"
   ]
  },
  {
   "cell_type": "code",
   "execution_count": null,
   "id": "gorgeous-spray",
   "metadata": {},
   "outputs": [],
   "source": [
    "import pandas as pd\n",
    "from datetime import datetime\n",
    "from time import sleep"
   ]
  },
  {
   "cell_type": "code",
   "execution_count": null,
   "id": "bearing-rolling",
   "metadata": {},
   "outputs": [],
   "source": [
    "data = pd.DataFrame()  # initialize dataframe\n",
    "params = {'limit': 5}"
   ]
  },
  {
   "cell_type": "code",
   "execution_count": null,
   "id": "recorded-airline",
   "metadata": {},
   "outputs": [],
   "source": [
    "# we use this function to convert responses to dataframes\n",
    "def df_from_response(res):\n",
    "    # initialize temp dataframe for batch of data in response\n",
    "    df = pd.DataFrame()\n",
    "\n",
    "    # loop through each post pulled from res and append to df\n",
    "    for post in res.json()['data']['children']:\n",
    "        df = df.append({\n",
    "            'subreddit': post['data']['subreddit'],\n",
    "            'title': post['data']['title'],\n",
    "            'selftext': post['data']['selftext'],\n",
    "            'upvote_ratio': post['data']['upvote_ratio'],\n",
    "            'ups': post['data']['ups'],\n",
    "            'downs': post['data']['downs'],\n",
    "            'score': post['data']['score'],\n",
    "            'link_flair_css_class': post['data']['link_flair_css_class'],\n",
    "            'created_utc': datetime.fromtimestamp(post['data']['created_utc']).strftime('%Y-%m-%dT%H:%M:%SZ'),\n",
    "            'id': post['data']['id'],\n",
    "            'kind': post['kind']\n",
    "        }, ignore_index=True)\n",
    "\n",
    "    return df"
   ]
  },
  {
   "cell_type": "code",
   "execution_count": null,
   "id": "ancient-happiness",
   "metadata": {},
   "outputs": [],
   "source": [
    "# loop through 10 times (returning 1K posts)\n",
    "for i in range(3):\n",
    "    # make request\n",
    "    res = requests.get(\"https://oauth.reddit.com/r/sanfrancisco/new\",\n",
    "                       headers=headers,\n",
    "                       params=params)\n",
    "\n",
    "    # get dataframe from response\n",
    "    new_df = df_from_response(res)\n",
    "    # take the final row (oldest entry)\n",
    "    row = new_df.iloc[len(new_df)-1]\n",
    "    # create fullname\n",
    "    fullname = row['kind'] + '_' + row['id']\n",
    "    # add/update fullname in params\n",
    "    params['after'] = fullname\n",
    "    \n",
    "    # append new_df to data\n",
    "    data = data.append(new_df, ignore_index=True)\n",
    "    \n",
    "    sleep(1)"
   ]
  },
  {
   "cell_type": "code",
   "execution_count": null,
   "id": "dutch-testimony",
   "metadata": {},
   "outputs": [],
   "source": [
    "data"
   ]
  },
  {
   "cell_type": "code",
   "execution_count": null,
   "id": "wrapped-trance",
   "metadata": {},
   "outputs": [],
   "source": [
    "post_id = \"ovq541\""
   ]
  },
  {
   "cell_type": "code",
   "execution_count": null,
   "id": "aboriginal-valuation",
   "metadata": {},
   "outputs": [],
   "source": [
    "res = requests.get(f\"https://oauth.reddit.com/r/sanfrancisco/comments/{post_id}\",\n",
    "                   headers=headers,\n",
    "                   params=params)"
   ]
  },
  {
   "cell_type": "code",
   "execution_count": null,
   "id": "encouraging-patrick",
   "metadata": {},
   "outputs": [],
   "source": [
    "res.json()"
   ]
  },
  {
   "cell_type": "code",
   "execution_count": null,
   "id": "wireless-sentence",
   "metadata": {},
   "outputs": [],
   "source": [
    "single_comment = res.json()[1]['data']['children'][0]\n",
    "single_comment"
   ]
  },
  {
   "cell_type": "code",
   "execution_count": null,
   "id": "neural-times",
   "metadata": {},
   "outputs": [],
   "source": [
    "comment_keys = single_comment['data'].keys()\n",
    "comment_keys"
   ]
  },
  {
   "cell_type": "markdown",
   "id": "ff7b52d8",
   "metadata": {},
   "source": [
    "API Call to obtain the \"more\" comments after a call to sanfrancisco/comments/post_id. The number of comments returned is limited in number.\n",
    "\n",
    "Check the response of https://www.reddit.com/dev/api#GET_api_morechildren"
   ]
  },
  {
   "cell_type": "code",
   "execution_count": null,
   "id": "ec432267",
   "metadata": {},
   "outputs": [],
   "source": [
    "more_comments = ['h7bz4gz', 'h7brflr', 'h7cxasf']"
   ]
  },
  {
   "cell_type": "code",
   "execution_count": null,
   "id": "331b1e5e",
   "metadata": {},
   "outputs": [],
   "source": [
    "full_post_id = 't3_ovq541'"
   ]
  },
  {
   "cell_type": "code",
   "execution_count": null,
   "id": "389e31dd",
   "metadata": {},
   "outputs": [],
   "source": [
    "children_correct = ','.join(more_comments)\n",
    "children_correct"
   ]
  },
  {
   "cell_type": "code",
   "execution_count": null,
   "id": "lined-enhancement",
   "metadata": {},
   "outputs": [],
   "source": [
    "more_params = {'api_type': 'json',\n",
    "              'children': children_correct,\n",
    "              'limit_children': False,\n",
    "              'link_id': full_post_id,\n",
    "              'sort': 'new'}"
   ]
  },
  {
   "cell_type": "code",
   "execution_count": null,
   "id": "28dcfe59",
   "metadata": {},
   "outputs": [],
   "source": [
    "response = requests.get(f\"https://oauth.reddit.com/api/morechildren\",\n",
    "                        headers=headers,\n",
    "                        params=more_params)"
   ]
  },
  {
   "cell_type": "code",
   "execution_count": null,
   "id": "7268c1c6",
   "metadata": {},
   "outputs": [],
   "source": [
    "response.json()"
   ]
  },
  {
   "cell_type": "code",
   "execution_count": null,
   "id": "3ad6d79b",
   "metadata": {},
   "outputs": [],
   "source": [
    "response.json()['json']['data']['things']"
   ]
  },
  {
   "cell_type": "code",
   "execution_count": null,
   "id": "01f9e0f3",
   "metadata": {},
   "outputs": [],
   "source": []
  }
 ],
 "metadata": {
  "kernelspec": {
   "display_name": "Python 3",
   "language": "python",
   "name": "python3"
  },
  "language_info": {
   "codemirror_mode": {
    "name": "ipython",
    "version": 3
   },
   "file_extension": ".py",
   "mimetype": "text/x-python",
   "name": "python",
   "nbconvert_exporter": "python",
   "pygments_lexer": "ipython3",
   "version": "3.7.10"
  }
 },
 "nbformat": 4,
 "nbformat_minor": 5
}
